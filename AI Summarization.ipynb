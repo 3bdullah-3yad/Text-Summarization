{
 "cells": [
  {
   "cell_type": "markdown",
   "id": "d11f31f6",
   "metadata": {},
   "source": [
    "# <span style=\"color:red\">@@@@@@@@@@@@ Ayad @@@@@@@@@@@@</span>"
   ]
  },
  {
   "cell_type": "code",
   "execution_count": 18,
   "id": "45363d09",
   "metadata": {},
   "outputs": [],
   "source": [
    "import urllib.request\n",
    "import bs4 as bs\n",
    "\n",
    "scraped_data = urllib.request.urlopen('https://en.wikipedia.org/wiki/Artificial_intelligence')\n",
    "article = scraped_data.read()\n",
    "\n",
    "parsed_article = bs.BeautifulSoup(article,'lxml')\n",
    "\n",
    "paragraphs = parsed_article.find_all('p')"
   ]
  },
  {
   "cell_type": "code",
   "execution_count": 19,
   "id": "f6a9e36b",
   "metadata": {},
   "outputs": [],
   "source": [
    "article_text = \"\"\n",
    "\n",
    "for p in paragraphs:\n",
    "    article_text += p.text"
   ]
  },
  {
   "cell_type": "code",
   "execution_count": 1,
   "id": "2fe1eefc",
   "metadata": {},
   "outputs": [],
   "source": [
    "# article_text"
   ]
  },
  {
   "cell_type": "code",
   "execution_count": 20,
   "id": "d1bfccb8",
   "metadata": {},
   "outputs": [],
   "source": [
    "import re\n",
    "\n",
    "article_text = re.sub(r'\\[[0-9]*\\]', ' ', article_text)\n",
    "article_text = re.sub(r'\\s+', ' ', article_text)"
   ]
  },
  {
   "cell_type": "code",
   "execution_count": 2,
   "id": "a282b640",
   "metadata": {},
   "outputs": [],
   "source": [
    "# article_text"
   ]
  },
  {
   "cell_type": "code",
   "execution_count": 22,
   "id": "863dba98",
   "metadata": {},
   "outputs": [],
   "source": [
    "formatted_article_text = re.sub('[^a-zA-Z]', ' ', article_text )\n",
    "formatted_article_text = re.sub(r'\\s+', ' ', formatted_article_text)"
   ]
  },
  {
   "cell_type": "code",
   "execution_count": 23,
   "id": "c513a1b6",
   "metadata": {},
   "outputs": [],
   "source": [
    "sentence_list = nltk.sent_tokenize(article_text)"
   ]
  },
  {
   "cell_type": "code",
   "execution_count": 24,
   "id": "846430ce",
   "metadata": {},
   "outputs": [],
   "source": [
    "stopwords = nltk.corpus.stopwords.words('english')\n",
    "\n",
    "word_frequencies = {}\n",
    "\n",
    "for word in nltk.word_tokenize(formatted_article_text):\n",
    "    if word not in stopwords:\n",
    "        if word not in word_frequencies.keys():\n",
    "            word_frequencies[word] = 1\n",
    "        else:\n",
    "            word_frequencies[word] += 1"
   ]
  },
  {
   "cell_type": "code",
   "execution_count": 26,
   "id": "45e34bb5",
   "metadata": {},
   "outputs": [],
   "source": [
    "maximum_frequncy = max(word_frequencies.values())\n",
    "\n",
    "for word in word_frequencies.keys():\n",
    "    word_frequencies[word] = (word_frequencies[word]/maximum_frequncy)"
   ]
  },
  {
   "cell_type": "code",
   "execution_count": 42,
   "id": "dbc50910",
   "metadata": {},
   "outputs": [],
   "source": [
    "sentence_scores = {}\n",
    "\n",
    "for sent in sentence_list:\n",
    "    for word in nltk.word_tokenize(sent.lower()):\n",
    "        if word in word_frequencies.keys():\n",
    "            if len(sent.split(' ')) < 30:\n",
    "                if sent not in sentence_scores.keys():\n",
    "                    sentence_scores[sent] = word_frequencies[word]\n",
    "                else:\n",
    "                    sentence_scores[sent] += word_frequencies[word]"
   ]
  },
  {
   "cell_type": "code",
   "execution_count": 98,
   "id": "24e7109d",
   "metadata": {},
   "outputs": [
    {
     "name": "stdout",
     "output_type": "stream",
     "text": [
      " Artificial intelligence (AI) is intelligence demonstrated by machines, as opposed to natural intelligence displayed by animals including humans.\n",
      "\n",
      "A machine with general intelligence can solve a wide variety of problems with a breadth and versatility similar to human intelligence.\n",
      "\n",
      "A superintelligence, hyperintelligence, or superhuman intelligence, is a hypothetical agent that would possess intelligence far surpassing that of the brightest and most gifted human mind.\n",
      "\n",
      "Deep learning has drastically improved the performance of programs in many important subfields of artificial intelligence, including computer vision, speech recognition, image classification and others.\n",
      "\n",
      "[q] AI founder John McCarthy said: \"Artificial intelligence is not, by definition, simulation of human intelligence\".\n",
      "\n",
      "Many researchers began to doubt that the symbolic approach would be able to imitate all the processes of human cognition, especially perception, robotics, learning and pattern recognition.\n",
      "\n",
      "Much of current research involves statistical AI, which is overwhelmingly used to solve specific problems, even highly successful techniques such as deep learning.\n",
      "\n",
      "Soft computing tools were developed in the 80s, such as neural networks, fuzzy systems, Grey system theory, evolutionary computation and many tools drawn from statistics or mathematical optimization.\n"
     ]
    }
   ],
   "source": [
    "import heapq\n",
    "summary_sentences = heapq.nlargest(8, sentence_scores, key=sentence_scores.get)\n",
    "\n",
    "summary = '\\n\\n'.join(summary_sentences)\n",
    "print(summary)"
   ]
  },
  {
   "cell_type": "markdown",
   "id": "1a7cbe83",
   "metadata": {},
   "source": [
    "# <span style=\"color:red\">@@@@@@@@@@@@ Ayad @@@@@@@@@@@@</span>"
   ]
  }
 ],
 "metadata": {
  "kernelspec": {
   "display_name": "Python 3 (ipykernel)",
   "language": "python",
   "name": "python3"
  },
  "language_info": {
   "codemirror_mode": {
    "name": "ipython",
    "version": 3
   },
   "file_extension": ".py",
   "mimetype": "text/x-python",
   "name": "python",
   "nbconvert_exporter": "python",
   "pygments_lexer": "ipython3",
   "version": "3.9.7"
  }
 },
 "nbformat": 4,
 "nbformat_minor": 5
}
